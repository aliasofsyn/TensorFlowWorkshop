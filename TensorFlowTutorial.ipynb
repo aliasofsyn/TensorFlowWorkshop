{
 "cells": [
  {
   "cell_type": "code",
   "execution_count": 44,
   "metadata": {},
   "outputs": [],
   "source": [
    "## To install the necessary dependeinces run pip install -r requirements.txt\n",
    "import tensorflow as tf\n",
    "import tensorflow_datasets as tfds\n",
    "import matplotlib.pyplot as plt\n"
   ]
  },
  {
   "cell_type": "code",
   "execution_count": 45,
   "metadata": {},
   "outputs": [],
   "source": [
    "## Load in data from tensorflow dataset of images of handwritten numbers. \n",
    "## Splits data into training - 10,000 instances - and validation - 60,000 instances - data sets \n",
    "## Shuffle the data to ensure randomization during training phase\n",
    "\n",
    "(dataset_train, dataset_test), dataset_info = tfds.load(\n",
    "    'mnist',\n",
    "      split = ['train', 'test'],\n",
    "      shuffle_files = True,                                                                                                                                                     \n",
    "      as_supervised = True, \n",
    "      with_info = True, \n",
    ")"
   ]
  },
  {
   "cell_type": "code",
   "execution_count": 46,
   "metadata": {},
   "outputs": [
    {
     "data": {
      "text/plain": [
       "tfds.core.DatasetInfo(\n",
       "    name='mnist',\n",
       "    full_name='mnist/3.0.1',\n",
       "    description=\"\"\"\n",
       "    The MNIST database of handwritten digits.\n",
       "    \"\"\",\n",
       "    homepage='http://yann.lecun.com/exdb/mnist/',\n",
       "    data_dir='/Users/youssefaliahmed/tensorflow_datasets/mnist/3.0.1',\n",
       "    file_format=tfrecord,\n",
       "    download_size=11.06 MiB,\n",
       "    dataset_size=21.00 MiB,\n",
       "    features=FeaturesDict({\n",
       "        'image': Image(shape=(28, 28, 1), dtype=uint8),\n",
       "        'label': ClassLabel(shape=(), dtype=int64, num_classes=10),\n",
       "    }),\n",
       "    supervised_keys=('image', 'label'),\n",
       "    disable_shuffling=False,\n",
       "    splits={\n",
       "        'test': <SplitInfo num_examples=10000, num_shards=1>,\n",
       "        'train': <SplitInfo num_examples=60000, num_shards=1>,\n",
       "    },\n",
       "    citation=\"\"\"@article{lecun2010mnist,\n",
       "      title={MNIST handwritten digit database},\n",
       "      author={LeCun, Yann and Cortes, Corinna and Burges, CJ},\n",
       "      journal={ATT Labs [Online]. Available: http://yann.lecun.com/exdb/mnist},\n",
       "      volume={2},\n",
       "      year={2010}\n",
       "    }\"\"\",\n",
       ")"
      ]
     },
     "execution_count": 46,
     "metadata": {},
     "output_type": "execute_result"
    }
   ],
   "source": [
    "## Dataset Info: \n",
    "## Note the images in the dataset are 28x28 and each pixel ranges from 0 to 225\n",
    "dataset_info"
   ]
  },
  {
   "cell_type": "code",
   "execution_count": 47,
   "metadata": {},
   "outputs": [
    {
     "name": "stdout",
     "output_type": "stream",
     "text": [
      "Each element in our dataset is of type: <class 'tuple'>\n",
      "The label of this element is: tf.Tensor(4, shape=(), dtype=int64)\n",
      "The shape of this image is: (28, 28, 1)\n"
     ]
    },
    {
     "name": "stderr",
     "output_type": "stream",
     "text": [
      "2024-11-11 11:16:42.063184: W tensorflow/core/kernels/data/cache_dataset_ops.cc:914] The calling iterator did not fully read the dataset being cached. In order to avoid unexpected truncation of the dataset, the partially cached contents of the dataset  will be discarded. This can happen if you have an input pipeline similar to `dataset.cache().take(k).repeat()`. You should use `dataset.take(k).cache().repeat()` instead.\n"
     ]
    },
    {
     "data": {
      "image/png": "[encoded data removed]",
      "text/plain": [
       "<Figure size 640x480 with 1 Axes>"
      ]
     },
     "metadata": {},
     "output_type": "display_data"
    }
   ],
   "source": [
    "## Analyzing dataset to\n",
    "## Important to note that the shape of the images are 28x28\n",
    "for x in dataset_train:\n",
    "    img, label = x\n",
    "    plt.imshow(img[:,:,0], cmap='gray')\n",
    "\n",
    "    print(\"Each element in our dataset is of type:\", type(x))\n",
    "    print(\"The label of this element is:\", label)\n",
    "    print(\"The shape of this image is:\", img.shape)\n",
    "\n",
    "    break"
   ]
  },
  {
   "cell_type": "code",
   "execution_count": 48,
   "metadata": {},
   "outputs": [],
   "source": [
    "def nomralize_data(img, label):\n",
    "    \"\"\"\n",
    "    Normalizes images from unsigned 8-bit to 32-bit float \n",
    "    Divides each pixel by 225 to ease computational expense \n",
    "    \"\"\"\n",
    "    img = tf.cast(img, tf.float32)\n",
    "    img = img / 225\n",
    "    return img, label\n",
    "\n",
    "## apply normalization to every entry of train/test dataset\n",
    "dataset_train = dataset_train.map(nomralize_data)\n",
    "\n",
    "# next we shuffle up our training data again\n",
    "dataset_train = dataset_train.shuffle(dataset_info.splits['train'].num_examples)\n",
    "\n",
    "# finally we batch our data to allow us to train faster\n",
    "dataset_train = dataset_train.batch(128)\n",
    "\n",
    "## Apply same steps to testing dataset\n",
    "dataset_test = dataset_test.map(nomralize_data)\n",
    "\n",
    "dataset_test = dataset_test.batch(128)"
   ]
  },
  {
   "cell_type": "code",
   "execution_count": 49,
   "metadata": {},
   "outputs": [
    {
     "name": "stderr",
     "output_type": "stream",
     "text": [
      "/Users/youssefaliahmed/TensorFlow/.venv/lib/python3.9/site-packages/keras/src/layers/reshaping/flatten.py:37: UserWarning: Do not pass an `input_shape`/`input_dim` argument to a layer. When using Sequential models, prefer using an `Input(shape)` object as the first layer in the model instead.\n",
      "  super().__init__(**kwargs)\n"
     ]
    }
   ],
   "source": [
    "## Creating Neural Network model 1 hidden layer and 1 output layer. \n",
    "## Output layer contains 10 nodes to represent the 10 possiblities the number in the image can be.\n",
    "model = tf.keras.models.Sequential([\n",
    "  tf.keras.layers.Flatten(input_shape=(28, 28)),\n",
    "  tf.keras.layers.Dense(128, activation=\"relu\"),\n",
    "  tf.keras.layers.Dense(10)\n",
    "])"
   ]
  },
  {
   "cell_type": "code",
   "execution_count": 50,
   "metadata": {},
   "outputs": [],
   "source": [
    "## Configuring ML model in preperation of training\n",
    "model.compile(\n",
    "    optimizer=tf.keras.optimizers.Adam(0.001),\n",
    "    loss=tf.keras.losses.SparseCategoricalCrossentropy(from_logits=True),\n",
    "    metrics=[\"accuracy\"]\n",
    "\n",
    ")"
   ]
  },
  {
   "cell_type": "code",
   "execution_count": 51,
   "metadata": {},
   "outputs": [
    {
     "name": "stdout",
     "output_type": "stream",
     "text": [
      "\u001b[1m469/469\u001b[0m \u001b[32m━━━━━━━━━━━━━━━━━━━━\u001b[0m\u001b[37m\u001b[0m \u001b[1m2s\u001b[0m 802us/step - accuracy: 0.1265 - loss: 2.3457\n",
      "Our training loss and accuracy [2.346639394760132, 0.12798333168029785]\n",
      "\u001b[1m79/79\u001b[0m \u001b[32m━━━━━━━━━━━━━━━━━━━━\u001b[0m\u001b[37m\u001b[0m \u001b[1m0s\u001b[0m 3ms/step - accuracy: 0.1260 - loss: 2.3506\n",
      "Our training loss and accuracy [2.3476462364196777, 0.12790000438690186]\n"
     ]
    }
   ],
   "source": [
    "results = model.evaluate(dataset_train)\n",
    "print(\"Our training loss and accuracy\", results)\n",
    "\n",
    "results = model.evaluate(dataset_test)\n",
    "print(\"Our training loss and accuracy\", results)"
   ]
  },
  {
   "cell_type": "code",
   "execution_count": 52,
   "metadata": {},
   "outputs": [
    {
     "name": "stdout",
     "output_type": "stream",
     "text": [
      "Epoch 1/8\n",
      "\u001b[1m469/469\u001b[0m \u001b[32m━━━━━━━━━━━━━━━━━━━━\u001b[0m\u001b[37m\u001b[0m \u001b[1m2s\u001b[0m 2ms/step - accuracy: 0.8366 - loss: 0.5945 - val_accuracy: 0.9452 - val_loss: 0.1865\n",
      "Epoch 2/8\n",
      "\u001b[1m469/469\u001b[0m \u001b[32m━━━━━━━━━━━━━━━━━━━━\u001b[0m\u001b[37m\u001b[0m \u001b[1m2s\u001b[0m 2ms/step - accuracy: 0.9530 - loss: 0.1689 - val_accuracy: 0.9613 - val_loss: 0.1352\n",
      "Epoch 3/8\n",
      "\u001b[1m469/469\u001b[0m \u001b[32m━━━━━━━━━━━━━━━━━━━━\u001b[0m\u001b[37m\u001b[0m \u001b[1m2s\u001b[0m 2ms/step - accuracy: 0.9680 - loss: 0.1141 - val_accuracy: 0.9680 - val_loss: 0.1069\n",
      "Epoch 4/8\n",
      "\u001b[1m469/469\u001b[0m \u001b[32m━━━━━━━━━━━━━━━━━━━━\u001b[0m\u001b[37m\u001b[0m \u001b[1m2s\u001b[0m 2ms/step - accuracy: 0.9744 - loss: 0.0863 - val_accuracy: 0.9737 - val_loss: 0.0905\n",
      "Epoch 5/8\n",
      "\u001b[1m469/469\u001b[0m \u001b[32m━━━━━━━━━━━━━━━━━━━━\u001b[0m\u001b[37m\u001b[0m \u001b[1m2s\u001b[0m 2ms/step - accuracy: 0.9815 - loss: 0.0668 - val_accuracy: 0.9753 - val_loss: 0.0825\n",
      "Epoch 6/8\n",
      "\u001b[1m469/469\u001b[0m \u001b[32m━━━━━━━━━━━━━━━━━━━━\u001b[0m\u001b[37m\u001b[0m \u001b[1m2s\u001b[0m 2ms/step - accuracy: 0.9847 - loss: 0.0551 - val_accuracy: 0.9758 - val_loss: 0.0810\n",
      "Epoch 7/8\n",
      "\u001b[1m469/469\u001b[0m \u001b[32m━━━━━━━━━━━━━━━━━━━━\u001b[0m\u001b[37m\u001b[0m \u001b[1m2s\u001b[0m 2ms/step - accuracy: 0.9860 - loss: 0.0467 - val_accuracy: 0.9738 - val_loss: 0.0820\n",
      "Epoch 8/8\n",
      "\u001b[1m469/469\u001b[0m \u001b[32m━━━━━━━━━━━━━━━━━━━━\u001b[0m\u001b[37m\u001b[0m \u001b[1m2s\u001b[0m 2ms/step - accuracy: 0.9891 - loss: 0.0392 - val_accuracy: 0.9773 - val_loss: 0.0762\n"
     ]
    }
   ],
   "source": [
    "## Training our model and viewing it's improvments in 8 epochs\n",
    "history = model.fit(\n",
    "    dataset_train,\n",
    "    epochs=8,\n",
    "    validation_data=dataset_test\n",
    ")"
   ]
  },
  {
   "cell_type": "code",
   "execution_count": 53,
   "metadata": {},
   "outputs": [
    {
     "data": {
      "image/png": "[encoded data removed]",
      "text/plain": [
       "<Figure size 640x480 with 1 Axes>"
      ]
     },
     "metadata": {},
     "output_type": "display_data"
    }
   ],
   "source": [
    "## Modeling the ML's learning curve against both training and validation dataset\n",
    "plt.plot(history.history['accuracy'])\n",
    "plt.plot(history.history['val_accuracy'])\n",
    "plt.title('model accuracy')\n",
    "plt.ylabel('accuracy')\n",
    "plt.xlabel('epoch')\n",
    "plt.legend(['train', 'val'], loc='best')\n",
    "plt.grid()\n",
    "plt.show()"
   ]
  },
  {
   "cell_type": "code",
   "execution_count": 55,
   "metadata": {},
   "outputs": [],
   "source": [
    "## Reseting dataset for predicting on our current trained model\n",
    "dataset_test = dataset_test.unbatch()\n",
    "dataset_test = dataset_test.shuffle(buffer_size=dataset_info.splits['test'].num_examples)"
   ]
  },
  {
   "cell_type": "code",
   "execution_count": 59,
   "metadata": {},
   "outputs": [
    {
     "name": "stdout",
     "output_type": "stream",
     "text": [
      "(1, 28, 28, 1) ()\n",
      "\u001b[1m1/1\u001b[0m \u001b[32m━━━━━━━━━━━━━━━━━━━━\u001b[0m\u001b[37m\u001b[0m \u001b[1m0s\u001b[0m 9ms/step\n",
      "This is the prediction without it being processed first:\n",
      " [[ -4.837213    -7.1123085   -3.8559732   11.200913   -15.31387\n",
      "   -0.07127836 -24.390856    -1.640294    -4.7356086    5.0581374 ]]\n",
      "\n",
      "The model's prediction for the image: 3\n",
      "The actual label: 3\n"
     ]
    },
    {
     "data": {
      "image/png": "[encoded data removed]",
      "text/plain": [
       "<Figure size 640x480 with 1 Axes>"
      ]
     },
     "metadata": {},
     "output_type": "display_data"
    }
   ],
   "source": [
    "## Making a random prediction off the randomized dataset\n",
    "def random_prediction():\n",
    "    img, label = list(dataset_test.take(1))[0]\n",
    "    img = tf.reshape(img, (-1, 28, 28, 1))\n",
    "    print(img.shape, label.shape)\n",
    "\n",
    "    prediction = model.predict(img)\n",
    "    print(\"This is the prediction without it being processed first:\\n\", prediction)\n",
    "\n",
    "    processed_prediction = tf.math.argmax(prediction[0])\n",
    "\n",
    "    print(\"\\nThe model's prediction for the image:\", int(processed_prediction))\n",
    "    print(\"The actual label:\", int(label))\n",
    "    plt.imshow(img[0,:,:,0], cmap=\"gray\")\n",
    "\n",
    "\n",
    "random_prediction()"
   ]
  }
 ],
 "metadata": {
  "kernelspec": {
   "display_name": ".venv",
   "language": "python",
   "name": "python3"
  },
  "language_info": {
   "codemirror_mode": {
    "name": "ipython",
    "version": 3
   },
   "file_extension": ".py",
   "mimetype": "text/x-python",
   "name": "python",
   "nbconvert_exporter": "python",
   "pygments_lexer": "ipython3",
   "version": "3.9.6"
  }
 },
 "nbformat": 4,
 "nbformat_minor": 2
}
